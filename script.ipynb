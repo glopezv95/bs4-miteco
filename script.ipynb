{
 "cells": [
  {
   "cell_type": "markdown",
   "metadata": {},
   "source": [
    "Set imports and variables"
   ]
  },
  {
   "cell_type": "code",
   "execution_count": 9,
   "metadata": {},
   "outputs": [],
   "source": [
    "from dotenv import load_dotenv\n",
    "import os\n",
    "import pandas as pd\n",
    "import numpy as np\n",
    "\n",
    "import funcs\n",
    "\n",
    "load_dotenv()\n",
    "\n",
    "API_KEY = os.getenv('API_KEY')\n",
    "SEARCH_ENGINE_ID = os.getenv('SEARCH_ENGINE_ID')\n",
    "NUM_REQUESTS = 92"
   ]
  },
  {
   "cell_type": "markdown",
   "metadata": {},
   "source": [
    "DataFrame import and preparation"
   ]
  },
  {
   "cell_type": "code",
   "execution_count": 10,
   "metadata": {},
   "outputs": [],
   "source": [
    "df = pd.read_excel('data.xlsx').drop(columns = 'Unnamed: 0')\n",
    "df.columns = [title.lower() for title in df.columns]\n",
    "\n",
    "size_list = [\n",
    "    'Mediana', 'Gran empresa', 'Otros',\n",
    "    'Entidad sin ánimo de lucro'\n",
    "]\n",
    "\n",
    "df = df[\n",
    "    (df['año'] == 2022) &\n",
    "    (df['tamaño'].isin(size_list)) &\n",
    "    (df['ccaa'].isin(['Madrid, Comunidad de', 'Galicia']))\n",
    "]\n",
    "\n",
    "if 'contact_page' not in df.columns:\n",
    "    df['contact_page'] = np.nan"
   ]
  },
  {
   "cell_type": "markdown",
   "metadata": {},
   "source": [
    "Change values of `contact_page` based on fil_df"
   ]
  },
  {
   "cell_type": "code",
   "execution_count": 11,
   "metadata": {},
   "outputs": [],
   "source": [
    "fil_df = df[df['contact_page'].isna()].head(NUM_REQUESTS)\n",
    "\n",
    "for index, row in fil_df.iterrows():\n",
    "    name = row['nombre organización']\n",
    "    url = funcs.get_homepage(name = name, key = API_KEY, cx = SEARCH_ENGINE_ID)['link']\n",
    "    df.at[index, 'contact_page'] = url\n"
   ]
  },
  {
   "cell_type": "markdown",
   "metadata": {},
   "source": [
    "Export `df`"
   ]
  },
  {
   "cell_type": "code",
   "execution_count": 12,
   "metadata": {},
   "outputs": [],
   "source": [
    "df.to_excel('data.xlsx')"
   ]
  }
 ],
 "metadata": {
  "kernelspec": {
   "display_name": "venv",
   "language": "python",
   "name": "python3"
  },
  "language_info": {
   "codemirror_mode": {
    "name": "ipython",
    "version": 3
   },
   "file_extension": ".py",
   "mimetype": "text/x-python",
   "name": "python",
   "nbconvert_exporter": "python",
   "pygments_lexer": "ipython3",
   "version": "3.12.1"
  }
 },
 "nbformat": 4,
 "nbformat_minor": 2
}
